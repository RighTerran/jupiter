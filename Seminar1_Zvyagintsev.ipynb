{
 "cells": [
  {
   "cell_type": "markdown",
   "id": "48708b25",
   "metadata": {},
   "source": [
    "## Задача 1:"
   ]
  },
  {
   "cell_type": "markdown",
   "id": "2324237a",
   "metadata": {},
   "source": [
    "На складе лежат разные фрукты в разном количестве.\n",
    "Нужно написать функцию, которая на вход принимает любое количество названий фруктов и их количество, а возвращает общее количество фруктов на складе, при помощи использования kwargs"
   ]
  },
  {
   "cell_type": "code",
   "execution_count": 20,
   "id": "a7540ff7",
   "metadata": {},
   "outputs": [],
   "source": [
    "def stock (**kwargs):\n",
    "    summa=0\n",
    "    for i in kwargs.values():\n",
    "        summa+=i\n",
    "    return (f'Общее количество фруктов: {summa}')"
   ]
  },
  {
   "cell_type": "code",
   "execution_count": 141,
   "id": "4b38f432",
   "metadata": {},
   "outputs": [
    {
     "data": {
      "text/plain": [
       "'Общее количество фруктов: 30'"
      ]
     },
     "execution_count": 141,
     "metadata": {},
     "output_type": "execute_result"
    }
   ],
   "source": [
    "stock(apple=20, lemon = 10)"
   ]
  },
  {
   "cell_type": "markdown",
   "id": "887406ac",
   "metadata": {},
   "source": [
    "## Задача 2:"
   ]
  },
  {
   "cell_type": "markdown",
   "id": "e7a4724a",
   "metadata": {},
   "source": [
    "Дан список с затратами на рекламу. Но в данных есть ошибки, некоторые затраты имеют отрицательную величину. Удалите такие значения из списка и посчитайте суммарные затраты\n",
    "[100, 125, -90, 345, 655, -1, 0, 200]\n",
    "Используйте list comprehensions"
   ]
  },
  {
   "cell_type": "code",
   "execution_count": 142,
   "id": "f328f2d6",
   "metadata": {},
   "outputs": [
    {
     "name": "stdout",
     "output_type": "stream",
     "text": [
      "[100, 125, 345, 655, 0, 200]\n",
      "1425\n"
     ]
    }
   ],
   "source": [
    "list = [100, 125, -90, 345, 655, -1, 0, 200]\n",
    "for i in list:\n",
    "    if i < 0:\n",
    "        list.remove(i)\n",
    "print(list)\n",
    "print(sum(list))"
   ]
  },
  {
   "cell_type": "code",
   "execution_count": 143,
   "id": "253ebe72",
   "metadata": {},
   "outputs": [
    {
     "data": {
      "text/plain": [
       "1425"
      ]
     },
     "execution_count": 143,
     "metadata": {},
     "output_type": "execute_result"
    }
   ],
   "source": [
    "list = [100, 125, -90, 345, 655, -1, 0, 200]\n",
    "result = sum([i for i in list if i > 0])\n",
    "result"
   ]
  },
  {
   "cell_type": "markdown",
   "id": "175282d6",
   "metadata": {},
   "source": [
    "## Задача 3:"
   ]
  },
  {
   "cell_type": "markdown",
   "id": "48e55e52",
   "metadata": {},
   "source": [
    "**Даны два списка.\n",
    "Дата покупки\n",
    "['2021-09-14', '2021-12-15', '2021-09-08', '2021-12-05', '2021-10-09', '2021-09-30', '2021-12-22', '2021-11-29', '2021-12-24', '2021-11-26', '2021-10-27', '2021-12-18', '2021-11-09', '2021-11-23', '2021-09-27', '2021-10-02', '2021-12-27', '2021-09-20', '2021-12-13', '2021-11-01', '2021-11-09', '2021-12-06', '2021-12-08', '2021-10-09', '2021-10-31', '2021-09-30', '2021-11-09', '2021-12-13', '2021-10-26', '2021-12-09']**\n",
    "\n",
    "**Суммы покупок по датам\n",
    "[1270, 8413, 9028, 3703, 5739, 4095, 295, 4944, 5723, 3701, 4471, 651, 7037, 4274, 6275, 4988, 6930, 2971, 6592, 2004, 2822, 519, 3406, 2732, 5015, 2008, 316, 6333, 5700, 2887]**"
   ]
  },
  {
   "cell_type": "markdown",
   "id": "2f32d9e7",
   "metadata": {},
   "source": [
    "4.1 Найдите, какая выручка у компании в ноябре\n",
    "Используйте list comprehensions"
   ]
  },
  {
   "cell_type": "code",
   "execution_count": 144,
   "id": "614f95f8",
   "metadata": {},
   "outputs": [],
   "source": [
    "purchase_date = ['2021-09-14', '2021-12-15', '2021-09-08', '2021-12-05', '2021-10-09', '2021-09-30', '2021-12-22', '2021-11-29', '2021-12-24', '2021-11-26', '2021-10-27', '2021-12-18', '2021-11-09', '2021-11-23', '2021-09-27', '2021-10-02', '2021-12-27', '2021-09-20', '2021-12-13', '2021-11-01', '2021-11-09', '2021-12-06', '2021-12-08', '2021-10-09', '2021-10-31', '2021-09-30', '2021-11-09', '2021-12-13', '2021-10-26', '2021-12-09']\n",
    "sum_date = [1270, 8413, 9028, 3703, 5739, 4095, 295, 4944, 5723, 3701, 4471, 651, 7037, 4274, 6275, 4988, 6930, 2971, 6592, 2004, 2822, 519, 3406, 2732, 5015, 2008, 316, 6333, 5700, 2887]"
   ]
  },
  {
   "cell_type": "code",
   "execution_count": 145,
   "id": "f3cb2771",
   "metadata": {},
   "outputs": [
    {
     "data": {
      "text/plain": [
       "'Общая выручка у компании в ноябре = 25098'"
      ]
     },
     "execution_count": 145,
     "metadata": {},
     "output_type": "execute_result"
    }
   ],
   "source": [
    "overall=0\n",
    "for i in range(len(purchase_date)):\n",
    "    if purchase_date[i].split('-')[1]=='11':\n",
    "        overall+=sum_date[i]\n",
    "f'Общая выручка у компании в ноябре = {overall}'"
   ]
  },
  {
   "cell_type": "code",
   "execution_count": 146,
   "id": "1200309a",
   "metadata": {},
   "outputs": [
    {
     "data": {
      "text/plain": [
       "'Общая выручка у компании в ноябре = 25098'"
      ]
     },
     "execution_count": 146,
     "metadata": {},
     "output_type": "execute_result"
    }
   ],
   "source": [
    "result = sum([sum_date[i] for i in range(len(purchase_date)) if purchase_date[i].split('-')[1]=='11'])\n",
    "f'Общая выручка у компании в ноябре = {result}'"
   ]
  },
  {
   "cell_type": "markdown",
   "id": "2745f19b",
   "metadata": {},
   "source": [
    "4.2 Найдите выручку компании в зависимости от месяца\n",
    "Для этого напишите функцию, которая на вход принимает список с датами и список с выручкой, а на выходе словарь, где ключи - это месяцы, а значения - это выручка.\n",
    "Используйте аннотирование типов"
   ]
  },
  {
   "cell_type": "code",
   "execution_count": 147,
   "id": "536a9ca5",
   "metadata": {},
   "outputs": [],
   "source": [
    "def revenue_in_month(dates=list, revenue=list) -> dict:\n",
    "    overall_revenue_in_months={}\n",
    "    for i in range(len(dates)):\n",
    "        month=dates[i].split('-')[1]\n",
    "        if month in overall_revenue_in_months:\n",
    "            overall_revenue_in_months[month]+=revenue[i]\n",
    "        else:\n",
    "            overall_revenue_in_months[month]=revenue[i]\n",
    "    return overall_revenue_in_months\n",
    "            "
   ]
  },
  {
   "cell_type": "code",
   "execution_count": 148,
   "id": "bd3bb4fc",
   "metadata": {},
   "outputs": [
    {
     "data": {
      "text/plain": [
       "{'09': 25647, '12': 45452, '10': 28645, '11': 25098}"
      ]
     },
     "execution_count": 148,
     "metadata": {},
     "output_type": "execute_result"
    }
   ],
   "source": [
    "revenue_in_month(purchase_date,sum_date)"
   ]
  },
  {
   "cell_type": "code",
   "execution_count": null,
   "id": "6aeb19c5",
   "metadata": {},
   "outputs": [],
   "source": []
  }
 ],
 "metadata": {
  "kernelspec": {
   "display_name": "Python 3 (ipykernel)",
   "language": "python",
   "name": "python3"
  },
  "language_info": {
   "codemirror_mode": {
    "name": "ipython",
    "version": 3
   },
   "file_extension": ".py",
   "mimetype": "text/x-python",
   "name": "python",
   "nbconvert_exporter": "python",
   "pygments_lexer": "ipython3",
   "version": "3.9.13"
  }
 },
 "nbformat": 4,
 "nbformat_minor": 5
}
